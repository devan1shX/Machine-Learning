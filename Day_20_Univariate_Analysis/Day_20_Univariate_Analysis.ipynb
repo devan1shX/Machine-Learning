{
  "nbformat": 4,
  "nbformat_minor": 0,
  "metadata": {
    "colab": {
      "provenance": []
    },
    "kernelspec": {
      "name": "python3",
      "display_name": "Python 3"
    },
    "language_info": {
      "name": "python"
    }
  },
  "cells": [
    {
      "cell_type": "code",
      "execution_count": 1,
      "metadata": {
        "id": "IhOc3KdNcz_t"
      },
      "outputs": [],
      "source": [
        "import pandas as pd"
      ]
    },
    {
      "cell_type": "code",
      "source": [
        "df = pd.read_csv('train.csv')"
      ],
      "metadata": {
        "id": "rqjrAjdwdNo_"
      },
      "execution_count": 2,
      "outputs": []
    },
    {
      "cell_type": "code",
      "source": [
        "df.head()"
      ],
      "metadata": {
        "colab": {
          "base_uri": "https://localhost:8080/",
          "height": 258
        },
        "id": "EWRaDEIkdQan",
        "outputId": "c4891e7f-80ad-460b-d426-ea5a78487d4f"
      },
      "execution_count": 3,
      "outputs": [
        {
          "output_type": "execute_result",
          "data": {
            "text/plain": [
              "   PassengerId  Survived  Pclass  \\\n",
              "0            1         0       3   \n",
              "1            2         1       1   \n",
              "2            3         1       3   \n",
              "3            4         1       1   \n",
              "4            5         0       3   \n",
              "\n",
              "                                                Name     Sex   Age  SibSp  \\\n",
              "0                            Braund, Mr. Owen Harris    male  22.0      1   \n",
              "1  Cumings, Mrs. John Bradley (Florence Briggs Th...  female  38.0      1   \n",
              "2                             Heikkinen, Miss. Laina  female  26.0      0   \n",
              "3       Futrelle, Mrs. Jacques Heath (Lily May Peel)  female  35.0      1   \n",
              "4                           Allen, Mr. William Henry    male  35.0      0   \n",
              "\n",
              "   Parch            Ticket     Fare Cabin Embarked  \n",
              "0      0         A/5 21171   7.2500   NaN        S  \n",
              "1      0          PC 17599  71.2833   C85        C  \n",
              "2      0  STON/O2. 3101282   7.9250   NaN        S  \n",
              "3      0            113803  53.1000  C123        S  \n",
              "4      0            373450   8.0500   NaN        S  "
            ],
            "text/html": [
              "\n",
              "  <div id=\"df-264d6818-6a19-4047-8e63-1ee2a9af0731\" class=\"colab-df-container\">\n",
              "    <div>\n",
              "<style scoped>\n",
              "    .dataframe tbody tr th:only-of-type {\n",
              "        vertical-align: middle;\n",
              "    }\n",
              "\n",
              "    .dataframe tbody tr th {\n",
              "        vertical-align: top;\n",
              "    }\n",
              "\n",
              "    .dataframe thead th {\n",
              "        text-align: right;\n",
              "    }\n",
              "</style>\n",
              "<table border=\"1\" class=\"dataframe\">\n",
              "  <thead>\n",
              "    <tr style=\"text-align: right;\">\n",
              "      <th></th>\n",
              "      <th>PassengerId</th>\n",
              "      <th>Survived</th>\n",
              "      <th>Pclass</th>\n",
              "      <th>Name</th>\n",
              "      <th>Sex</th>\n",
              "      <th>Age</th>\n",
              "      <th>SibSp</th>\n",
              "      <th>Parch</th>\n",
              "      <th>Ticket</th>\n",
              "      <th>Fare</th>\n",
              "      <th>Cabin</th>\n",
              "      <th>Embarked</th>\n",
              "    </tr>\n",
              "  </thead>\n",
              "  <tbody>\n",
              "    <tr>\n",
              "      <th>0</th>\n",
              "      <td>1</td>\n",
              "      <td>0</td>\n",
              "      <td>3</td>\n",
              "      <td>Braund, Mr. Owen Harris</td>\n",
              "      <td>male</td>\n",
              "      <td>22.0</td>\n",
              "      <td>1</td>\n",
              "      <td>0</td>\n",
              "      <td>A/5 21171</td>\n",
              "      <td>7.2500</td>\n",
              "      <td>NaN</td>\n",
              "      <td>S</td>\n",
              "    </tr>\n",
              "    <tr>\n",
              "      <th>1</th>\n",
              "      <td>2</td>\n",
              "      <td>1</td>\n",
              "      <td>1</td>\n",
              "      <td>Cumings, Mrs. John Bradley (Florence Briggs Th...</td>\n",
              "      <td>female</td>\n",
              "      <td>38.0</td>\n",
              "      <td>1</td>\n",
              "      <td>0</td>\n",
              "      <td>PC 17599</td>\n",
              "      <td>71.2833</td>\n",
              "      <td>C85</td>\n",
              "      <td>C</td>\n",
              "    </tr>\n",
              "    <tr>\n",
              "      <th>2</th>\n",
              "      <td>3</td>\n",
              "      <td>1</td>\n",
              "      <td>3</td>\n",
              "      <td>Heikkinen, Miss. Laina</td>\n",
              "      <td>female</td>\n",
              "      <td>26.0</td>\n",
              "      <td>0</td>\n",
              "      <td>0</td>\n",
              "      <td>STON/O2. 3101282</td>\n",
              "      <td>7.9250</td>\n",
              "      <td>NaN</td>\n",
              "      <td>S</td>\n",
              "    </tr>\n",
              "    <tr>\n",
              "      <th>3</th>\n",
              "      <td>4</td>\n",
              "      <td>1</td>\n",
              "      <td>1</td>\n",
              "      <td>Futrelle, Mrs. Jacques Heath (Lily May Peel)</td>\n",
              "      <td>female</td>\n",
              "      <td>35.0</td>\n",
              "      <td>1</td>\n",
              "      <td>0</td>\n",
              "      <td>113803</td>\n",
              "      <td>53.1000</td>\n",
              "      <td>C123</td>\n",
              "      <td>S</td>\n",
              "    </tr>\n",
              "    <tr>\n",
              "      <th>4</th>\n",
              "      <td>5</td>\n",
              "      <td>0</td>\n",
              "      <td>3</td>\n",
              "      <td>Allen, Mr. William Henry</td>\n",
              "      <td>male</td>\n",
              "      <td>35.0</td>\n",
              "      <td>0</td>\n",
              "      <td>0</td>\n",
              "      <td>373450</td>\n",
              "      <td>8.0500</td>\n",
              "      <td>NaN</td>\n",
              "      <td>S</td>\n",
              "    </tr>\n",
              "  </tbody>\n",
              "</table>\n",
              "</div>\n",
              "    <div class=\"colab-df-buttons\">\n",
              "\n",
              "  <div class=\"colab-df-container\">\n",
              "    <button class=\"colab-df-convert\" onclick=\"convertToInteractive('df-264d6818-6a19-4047-8e63-1ee2a9af0731')\"\n",
              "            title=\"Convert this dataframe to an interactive table.\"\n",
              "            style=\"display:none;\">\n",
              "\n",
              "  <svg xmlns=\"http://www.w3.org/2000/svg\" height=\"24px\" viewBox=\"0 -960 960 960\">\n",
              "    <path d=\"M120-120v-720h720v720H120Zm60-500h600v-160H180v160Zm220 220h160v-160H400v160Zm0 220h160v-160H400v160ZM180-400h160v-160H180v160Zm440 0h160v-160H620v160ZM180-180h160v-160H180v160Zm440 0h160v-160H620v160Z\"/>\n",
              "  </svg>\n",
              "    </button>\n",
              "\n",
              "  <style>\n",
              "    .colab-df-container {\n",
              "      display:flex;\n",
              "      gap: 12px;\n",
              "    }\n",
              "\n",
              "    .colab-df-convert {\n",
              "      background-color: #E8F0FE;\n",
              "      border: none;\n",
              "      border-radius: 50%;\n",
              "      cursor: pointer;\n",
              "      display: none;\n",
              "      fill: #1967D2;\n",
              "      height: 32px;\n",
              "      padding: 0 0 0 0;\n",
              "      width: 32px;\n",
              "    }\n",
              "\n",
              "    .colab-df-convert:hover {\n",
              "      background-color: #E2EBFA;\n",
              "      box-shadow: 0px 1px 2px rgba(60, 64, 67, 0.3), 0px 1px 3px 1px rgba(60, 64, 67, 0.15);\n",
              "      fill: #174EA6;\n",
              "    }\n",
              "\n",
              "    .colab-df-buttons div {\n",
              "      margin-bottom: 4px;\n",
              "    }\n",
              "\n",
              "    [theme=dark] .colab-df-convert {\n",
              "      background-color: #3B4455;\n",
              "      fill: #D2E3FC;\n",
              "    }\n",
              "\n",
              "    [theme=dark] .colab-df-convert:hover {\n",
              "      background-color: #434B5C;\n",
              "      box-shadow: 0px 1px 3px 1px rgba(0, 0, 0, 0.15);\n",
              "      filter: drop-shadow(0px 1px 2px rgba(0, 0, 0, 0.3));\n",
              "      fill: #FFFFFF;\n",
              "    }\n",
              "  </style>\n",
              "\n",
              "    <script>\n",
              "      const buttonEl =\n",
              "        document.querySelector('#df-264d6818-6a19-4047-8e63-1ee2a9af0731 button.colab-df-convert');\n",
              "      buttonEl.style.display =\n",
              "        google.colab.kernel.accessAllowed ? 'block' : 'none';\n",
              "\n",
              "      async function convertToInteractive(key) {\n",
              "        const element = document.querySelector('#df-264d6818-6a19-4047-8e63-1ee2a9af0731');\n",
              "        const dataTable =\n",
              "          await google.colab.kernel.invokeFunction('convertToInteractive',\n",
              "                                                    [key], {});\n",
              "        if (!dataTable) return;\n",
              "\n",
              "        const docLinkHtml = 'Like what you see? Visit the ' +\n",
              "          '<a target=\"_blank\" href=https://colab.research.google.com/notebooks/data_table.ipynb>data table notebook</a>'\n",
              "          + ' to learn more about interactive tables.';\n",
              "        element.innerHTML = '';\n",
              "        dataTable['output_type'] = 'display_data';\n",
              "        await google.colab.output.renderOutput(dataTable, element);\n",
              "        const docLink = document.createElement('div');\n",
              "        docLink.innerHTML = docLinkHtml;\n",
              "        element.appendChild(docLink);\n",
              "      }\n",
              "    </script>\n",
              "  </div>\n",
              "\n",
              "\n",
              "    <div id=\"df-868a4552-7024-46d2-ae82-c8288d1df068\">\n",
              "      <button class=\"colab-df-quickchart\" onclick=\"quickchart('df-868a4552-7024-46d2-ae82-c8288d1df068')\"\n",
              "                title=\"Suggest charts\"\n",
              "                style=\"display:none;\">\n",
              "\n",
              "<svg xmlns=\"http://www.w3.org/2000/svg\" height=\"24px\"viewBox=\"0 0 24 24\"\n",
              "     width=\"24px\">\n",
              "    <g>\n",
              "        <path d=\"M19 3H5c-1.1 0-2 .9-2 2v14c0 1.1.9 2 2 2h14c1.1 0 2-.9 2-2V5c0-1.1-.9-2-2-2zM9 17H7v-7h2v7zm4 0h-2V7h2v10zm4 0h-2v-4h2v4z\"/>\n",
              "    </g>\n",
              "</svg>\n",
              "      </button>\n",
              "\n",
              "<style>\n",
              "  .colab-df-quickchart {\n",
              "      --bg-color: #E8F0FE;\n",
              "      --fill-color: #1967D2;\n",
              "      --hover-bg-color: #E2EBFA;\n",
              "      --hover-fill-color: #174EA6;\n",
              "      --disabled-fill-color: #AAA;\n",
              "      --disabled-bg-color: #DDD;\n",
              "  }\n",
              "\n",
              "  [theme=dark] .colab-df-quickchart {\n",
              "      --bg-color: #3B4455;\n",
              "      --fill-color: #D2E3FC;\n",
              "      --hover-bg-color: #434B5C;\n",
              "      --hover-fill-color: #FFFFFF;\n",
              "      --disabled-bg-color: #3B4455;\n",
              "      --disabled-fill-color: #666;\n",
              "  }\n",
              "\n",
              "  .colab-df-quickchart {\n",
              "    background-color: var(--bg-color);\n",
              "    border: none;\n",
              "    border-radius: 50%;\n",
              "    cursor: pointer;\n",
              "    display: none;\n",
              "    fill: var(--fill-color);\n",
              "    height: 32px;\n",
              "    padding: 0;\n",
              "    width: 32px;\n",
              "  }\n",
              "\n",
              "  .colab-df-quickchart:hover {\n",
              "    background-color: var(--hover-bg-color);\n",
              "    box-shadow: 0 1px 2px rgba(60, 64, 67, 0.3), 0 1px 3px 1px rgba(60, 64, 67, 0.15);\n",
              "    fill: var(--button-hover-fill-color);\n",
              "  }\n",
              "\n",
              "  .colab-df-quickchart-complete:disabled,\n",
              "  .colab-df-quickchart-complete:disabled:hover {\n",
              "    background-color: var(--disabled-bg-color);\n",
              "    fill: var(--disabled-fill-color);\n",
              "    box-shadow: none;\n",
              "  }\n",
              "\n",
              "  .colab-df-spinner {\n",
              "    border: 2px solid var(--fill-color);\n",
              "    border-color: transparent;\n",
              "    border-bottom-color: var(--fill-color);\n",
              "    animation:\n",
              "      spin 1s steps(1) infinite;\n",
              "  }\n",
              "\n",
              "  @keyframes spin {\n",
              "    0% {\n",
              "      border-color: transparent;\n",
              "      border-bottom-color: var(--fill-color);\n",
              "      border-left-color: var(--fill-color);\n",
              "    }\n",
              "    20% {\n",
              "      border-color: transparent;\n",
              "      border-left-color: var(--fill-color);\n",
              "      border-top-color: var(--fill-color);\n",
              "    }\n",
              "    30% {\n",
              "      border-color: transparent;\n",
              "      border-left-color: var(--fill-color);\n",
              "      border-top-color: var(--fill-color);\n",
              "      border-right-color: var(--fill-color);\n",
              "    }\n",
              "    40% {\n",
              "      border-color: transparent;\n",
              "      border-right-color: var(--fill-color);\n",
              "      border-top-color: var(--fill-color);\n",
              "    }\n",
              "    60% {\n",
              "      border-color: transparent;\n",
              "      border-right-color: var(--fill-color);\n",
              "    }\n",
              "    80% {\n",
              "      border-color: transparent;\n",
              "      border-right-color: var(--fill-color);\n",
              "      border-bottom-color: var(--fill-color);\n",
              "    }\n",
              "    90% {\n",
              "      border-color: transparent;\n",
              "      border-bottom-color: var(--fill-color);\n",
              "    }\n",
              "  }\n",
              "</style>\n",
              "\n",
              "      <script>\n",
              "        async function quickchart(key) {\n",
              "          const quickchartButtonEl =\n",
              "            document.querySelector('#' + key + ' button');\n",
              "          quickchartButtonEl.disabled = true;  // To prevent multiple clicks.\n",
              "          quickchartButtonEl.classList.add('colab-df-spinner');\n",
              "          try {\n",
              "            const charts = await google.colab.kernel.invokeFunction(\n",
              "                'suggestCharts', [key], {});\n",
              "          } catch (error) {\n",
              "            console.error('Error during call to suggestCharts:', error);\n",
              "          }\n",
              "          quickchartButtonEl.classList.remove('colab-df-spinner');\n",
              "          quickchartButtonEl.classList.add('colab-df-quickchart-complete');\n",
              "        }\n",
              "        (() => {\n",
              "          let quickchartButtonEl =\n",
              "            document.querySelector('#df-868a4552-7024-46d2-ae82-c8288d1df068 button');\n",
              "          quickchartButtonEl.style.display =\n",
              "            google.colab.kernel.accessAllowed ? 'block' : 'none';\n",
              "        })();\n",
              "      </script>\n",
              "    </div>\n",
              "\n",
              "    </div>\n",
              "  </div>\n"
            ],
            "application/vnd.google.colaboratory.intrinsic+json": {
              "type": "dataframe",
              "variable_name": "df",
              "summary": "{\n  \"name\": \"df\",\n  \"rows\": 891,\n  \"fields\": [\n    {\n      \"column\": \"PassengerId\",\n      \"properties\": {\n        \"dtype\": \"number\",\n        \"std\": 257,\n        \"min\": 1,\n        \"max\": 891,\n        \"num_unique_values\": 891,\n        \"samples\": [\n          710,\n          440,\n          841\n        ],\n        \"semantic_type\": \"\",\n        \"description\": \"\"\n      }\n    },\n    {\n      \"column\": \"Survived\",\n      \"properties\": {\n        \"dtype\": \"number\",\n        \"std\": 0,\n        \"min\": 0,\n        \"max\": 1,\n        \"num_unique_values\": 2,\n        \"samples\": [\n          1,\n          0\n        ],\n        \"semantic_type\": \"\",\n        \"description\": \"\"\n      }\n    },\n    {\n      \"column\": \"Pclass\",\n      \"properties\": {\n        \"dtype\": \"number\",\n        \"std\": 0,\n        \"min\": 1,\n        \"max\": 3,\n        \"num_unique_values\": 3,\n        \"samples\": [\n          3,\n          1\n        ],\n        \"semantic_type\": \"\",\n        \"description\": \"\"\n      }\n    },\n    {\n      \"column\": \"Name\",\n      \"properties\": {\n        \"dtype\": \"string\",\n        \"num_unique_values\": 891,\n        \"samples\": [\n          \"Moubarek, Master. Halim Gonios (\\\"William George\\\")\",\n          \"Kvillner, Mr. Johan Henrik Johannesson\"\n        ],\n        \"semantic_type\": \"\",\n        \"description\": \"\"\n      }\n    },\n    {\n      \"column\": \"Sex\",\n      \"properties\": {\n        \"dtype\": \"category\",\n        \"num_unique_values\": 2,\n        \"samples\": [\n          \"female\",\n          \"male\"\n        ],\n        \"semantic_type\": \"\",\n        \"description\": \"\"\n      }\n    },\n    {\n      \"column\": \"Age\",\n      \"properties\": {\n        \"dtype\": \"number\",\n        \"std\": 14.526497332334044,\n        \"min\": 0.42,\n        \"max\": 80.0,\n        \"num_unique_values\": 88,\n        \"samples\": [\n          0.75,\n          22.0\n        ],\n        \"semantic_type\": \"\",\n        \"description\": \"\"\n      }\n    },\n    {\n      \"column\": \"SibSp\",\n      \"properties\": {\n        \"dtype\": \"number\",\n        \"std\": 1,\n        \"min\": 0,\n        \"max\": 8,\n        \"num_unique_values\": 7,\n        \"samples\": [\n          1,\n          0\n        ],\n        \"semantic_type\": \"\",\n        \"description\": \"\"\n      }\n    },\n    {\n      \"column\": \"Parch\",\n      \"properties\": {\n        \"dtype\": \"number\",\n        \"std\": 0,\n        \"min\": 0,\n        \"max\": 6,\n        \"num_unique_values\": 7,\n        \"samples\": [\n          0,\n          1\n        ],\n        \"semantic_type\": \"\",\n        \"description\": \"\"\n      }\n    },\n    {\n      \"column\": \"Ticket\",\n      \"properties\": {\n        \"dtype\": \"string\",\n        \"num_unique_values\": 681,\n        \"samples\": [\n          \"11774\",\n          \"248740\"\n        ],\n        \"semantic_type\": \"\",\n        \"description\": \"\"\n      }\n    },\n    {\n      \"column\": \"Fare\",\n      \"properties\": {\n        \"dtype\": \"number\",\n        \"std\": 49.693428597180905,\n        \"min\": 0.0,\n        \"max\": 512.3292,\n        \"num_unique_values\": 248,\n        \"samples\": [\n          11.2417,\n          51.8625\n        ],\n        \"semantic_type\": \"\",\n        \"description\": \"\"\n      }\n    },\n    {\n      \"column\": \"Cabin\",\n      \"properties\": {\n        \"dtype\": \"category\",\n        \"num_unique_values\": 147,\n        \"samples\": [\n          \"D45\",\n          \"B49\"\n        ],\n        \"semantic_type\": \"\",\n        \"description\": \"\"\n      }\n    },\n    {\n      \"column\": \"Embarked\",\n      \"properties\": {\n        \"dtype\": \"category\",\n        \"num_unique_values\": 3,\n        \"samples\": [\n          \"S\",\n          \"C\"\n        ],\n        \"semantic_type\": \"\",\n        \"description\": \"\"\n      }\n    }\n  ]\n}"
            }
          },
          "metadata": {},
          "execution_count": 3
        }
      ]
    },
    {
      "cell_type": "markdown",
      "source": [
        "<div style=\"background: linear-gradient(135deg, #667eea 0%, #764ba2 100%); padding: 40px; border-radius: 15px; box-shadow: 0 10px 30px rgba(0,0,0,0.3);\">\n",
        "    <h1 style=\"color: #ffffff; text-align: center; font-size: 2.8em; margin: 0; text-shadow: 2px 2px 4px rgba(0,0,0,0.3);\">\n",
        "        🚀 Day 19: Understanding Data\n",
        "    </h1>\n",
        "    <p style=\"color: #f0f0f0; text-align: center; font-size: 1.2em; margin-top: 15px; font-style: italic;\">\n",
        "        Master the fundamentals before diving deep\n",
        "    </p>\n",
        "</div>\n",
        "\n",
        "<div style=\"background: linear-gradient(135deg, #f093fb 0%, #f5576c 100%); padding: 3px; border-radius: 12px; margin-top: 30px;\">\n",
        "    <div style=\"background: #1a1a2e; padding: 25px; border-radius: 10px;\">\n",
        "        <h2 style=\"color: #f5576c; margin-top: 0; font-size: 1.8em;\">\n",
        "            📚 GitHub Repository\n",
        "        </h2>\n",
        "        <p style=\"color: #e0e0e0; font-size: 1.1em; margin: 0;\">\n",
        "            <a href=\"https://github.com/devan1shX/Machine-Learning/tree/main/Day_19_Understanding_Data\"\n",
        "               style=\"color: #f093fb; text-decoration: none; font-weight: bold;\">\n",
        "                ➜ View Complete Code & Resources\n",
        "            </a>\n",
        "        </p>\n",
        "    </div>\n",
        "</div>\n",
        "\n",
        "\n",
        "\n",
        "<div style=\"background: linear-gradient(135deg, #fa709a 0%, #fee140 100%); padding: 3px; border-radius: 12px; margin-top: 40px;\">\n",
        "    <div style=\"background: #1a1a2e; padding: 30px; border-radius: 10px;\">\n",
        "        <h2 style=\"color: #fee140; margin-top: 0; font-size: 2em; display: flex; align-items: center;\">\n",
        "            <span style=\"font-size: 1.5em; margin-right: 15px;\">🔍</span>\n",
        "            Exploratory Data Analysis (EDA)\n",
        "        </h2>\n",
        "        <p style=\"color: #e0e0e0; font-size: 1.05em; margin: 0;\">\n",
        "            Now let's dive deep into the data and uncover hidden insights...\n",
        "        </p>\n",
        "    </div>\n",
        "</div>"
      ],
      "metadata": {
        "id": "HtfDh2HIdzmE"
      }
    },
    {
      "cell_type": "markdown",
      "source": [
        "# 🚢 Titanic Dataset Overview\n",
        "\n",
        "> *A historical dataset about passengers aboard the RMS Titanic*\n",
        "\n",
        "---\n",
        "\n",
        "## 📊 Column Descriptions\n",
        "\n",
        "### 🆔 **PassengerId**\n",
        "**Type:** Integer | Unique identifier for each passenger\n",
        "\n",
        "### 💚 **Survived** ⭐\n",
        "**Type:** Binary | `0` = Did not survive | `1` = Survived  \n",
        "*This is our target variable*\n",
        "\n",
        "### 🎫 **Pclass**\n",
        "**Type:** Categorical | Ticket class (socio-economic status)\n",
        "- **1** = Upper class\n",
        "- **2** = Middle class  \n",
        "- **3** = Lower class\n",
        "\n",
        "### 👤 **Name**\n",
        "**Type:** String | Full name with title (Mr., Mrs., Miss., etc.)\n",
        "\n",
        "### ⚧️ **Sex**\n",
        "**Type:** Categorical | Gender → `male` or `female`\n",
        "\n",
        "### 🎂 **Age**\n",
        "**Type:** Float | Age in years *(may have missing values)*\n",
        "\n",
        "### 👨‍👩‍👧 **SibSp**\n",
        "**Type:** Integer | Number of siblings/spouses aboard\n",
        "\n",
        "### 👶 **Parch**\n",
        "**Type:** Integer | Number of parents/children aboard\n",
        "\n",
        "### 🎟️ **Ticket**\n",
        "**Type:** String | Ticket number (alphanumeric)\n",
        "\n",
        "### 💰 **Fare**\n",
        "**Type:** Float | Ticket price in British pounds\n",
        "\n",
        "### 🚪 **Cabin**\n",
        "**Type:** String | Cabin number *(many missing values)*\n",
        "\n",
        "### ⚓ **Embarked**\n",
        "**Type:** Categorical | Port of embarkation\n",
        "- **C** = Cherbourg (France)\n",
        "- **Q** = Queenstown (Ireland)\n",
        "- **S** = Southampton (England)\n",
        "\n",
        "---\n",
        "\n",
        "## 🎯 Quick Summary\n",
        "\n",
        "**Target:** `Survived` | **Goal:** Predict survival based on passenger features  \n",
        "**Challenge:** Handle missing values in Age & Cabin | **Data:** Mix of numerical & categorical"
      ],
      "metadata": {
        "id": "Z-TtdNiqeh9O"
      }
    },
    {
      "cell_type": "markdown",
      "source": [
        "## 1. Categorical Data"
      ],
      "metadata": {
        "id": "jR3c3NRAeGoY"
      }
    },
    {
      "cell_type": "markdown",
      "source": [
        "### 📊 **a. CountPlot**\n",
        "\n",
        "**Purpose:** Visualize the frequency distribution of categorical variables\n",
        "\n",
        "**Best for:**\n",
        "- Counting occurrences in categories\n",
        "- Comparing class distributions\n",
        "- Identifying imbalanced data\n",
        "\n",
        "**Common use cases:**\n",
        "- Survival count (`Survived`)\n",
        "- Passenger class distribution (`Pclass`)\n",
        "- Gender distribution (`Sex`)\n",
        "- Embarkation ports (`Embarked`)\n",
        "\n",
        "**Key insight:** Shows which categories are more/less represented in the dataset\n",
        "\n",
        "---"
      ],
      "metadata": {
        "id": "MqCiRSHBexWX"
      }
    },
    {
      "cell_type": "markdown",
      "source": [
        "### 📈 **Seaborn**\n",
        "\n",
        "**Purpose:** Statistical data visualization library built on matplotlib\n",
        "\n",
        "**Key features:**\n",
        "- 🎨 Beautiful default themes and color palettes\n",
        "- 📊 High-level interface for complex plots\n",
        "- 🔥 Built-in statistical functions\n",
        "- 🎯 Perfect for exploring relationships in data\n",
        "\n",
        "**Common plots:**\n",
        "- Distribution plots (histplot, kdeplot)\n",
        "- Categorical plots (countplot, boxplot, violinplot)\n",
        "- Relationship plots (scatterplot, lineplot)\n",
        "- Heatmaps for correlations\n",
        "\n",
        "**Why use it?** Creates attractive, informative visualizations with minimal code\n",
        "\n",
        "---"
      ],
      "metadata": {
        "id": "uQ5lW9EIfQiY"
      }
    },
    {
      "cell_type": "code",
      "source": [
        "import seaborn as sns"
      ],
      "metadata": {
        "id": "Qtt0hg9YdRqY"
      },
      "execution_count": 4,
      "outputs": []
    },
    {
      "cell_type": "markdown",
      "source": [
        "### 🔢 **Visualizing Survival Count**\n",
        "\n",
        "#### **Method 1: Seaborn CountPlot**\n",
        "```python\n",
        "sns.countplot(df['Survived'])\n",
        "```\n",
        "- Clean, styled bar plot with automatic labels\n",
        "- Best for quick, professional visualizations\n",
        "\n",
        "#### **Method 2: Value Counts (Data)**\n",
        "```python\n",
        "df['Survived'].value_counts()\n",
        "```\n",
        "- Returns actual numbers (frequency table)\n",
        "- Good for seeing exact counts\n",
        "\n",
        "#### **Method 3: Pandas Bar Plot**\n",
        "```python\n",
        "df['Survived'].value_counts().plot(kind='bar')\n",
        "```\n",
        "- Quick matplotlib-based visualization\n",
        "- Simple but less styled than seaborn\n",
        "\n",
        "**Result:** All three show distribution of survivors vs non-survivors  \n",
        "**Comparison:** `0` (died) vs `1` (survived) frequencies\n",
        "\n",
        "---"
      ],
      "metadata": {
        "id": "axV-Bf0Bfn2W"
      }
    },
    {
      "cell_type": "code",
      "source": [
        "df['Survived'].value_counts()\n",
        "df['Survived'].value_counts().plot(kind = 'bar')"
      ],
      "metadata": {
        "colab": {
          "base_uri": "https://localhost:8080/",
          "height": 461
        },
        "id": "bx_RporAfD1Q",
        "outputId": "814f6b5b-3a8f-4b90-de74-755e7211d986"
      },
      "execution_count": 8,
      "outputs": [
        {
          "output_type": "execute_result",
          "data": {
            "text/plain": [
              "<Axes: xlabel='Survived'>"
            ]
          },
          "metadata": {},
          "execution_count": 8
        },
        {
          "output_type": "display_data",
          "data": {
            "text/plain": [
              "<Figure size 640x480 with 1 Axes>"
            ],
            "image/png": "[encoded data removed]"
          },
          "metadata": {}
        }
      ]
    },
    {
      "cell_type": "code",
      "source": [
        "df['Pclass'].value_counts().plot(kind = 'bar')"
      ],
      "metadata": {
        "colab": {
          "base_uri": "https://localhost:8080/",
          "height": 461
        },
        "id": "JDTclo4AfGuD",
        "outputId": "9b492141-9354-4488-f772-f10a81b2f6d4"
      },
      "execution_count": 12,
      "outputs": [
        {
          "output_type": "execute_result",
          "data": {
            "text/plain": [
              "<Axes: xlabel='Pclass'>"
            ]
          },
          "metadata": {},
          "execution_count": 12
        },
        {
          "output_type": "display_data",
          "data": {
            "text/plain": [
              "<Figure size 640x480 with 1 Axes>"
            ],
            "image/png": "[encoded data removed]"
          },
          "metadata": {}
        }
      ]
    },
    {
      "cell_type": "code",
      "source": [
        "df['Embarked'].value_counts().plot(kind = 'bar')"
      ],
      "metadata": {
        "colab": {
          "base_uri": "https://localhost:8080/",
          "height": 463
        },
        "id": "Wu3SKoHlfzjM",
        "outputId": "022405f0-9b5b-4658-e2fc-341a989b4a94"
      },
      "execution_count": 13,
      "outputs": [
        {
          "output_type": "execute_result",
          "data": {
            "text/plain": [
              "<Axes: xlabel='Embarked'>"
            ]
          },
          "metadata": {},
          "execution_count": 13
        },
        {
          "output_type": "display_data",
          "data": {
            "text/plain": [
              "<Figure size 640x480 with 1 Axes>"
            ],
            "image/png": "[encoded data removed]"
          },
          "metadata": {}
        }
      ]
    },
    {
      "cell_type": "code",
      "source": [
        "df['Sex'].value_counts().plot(kind = 'bar')"
      ],
      "metadata": {
        "colab": {
          "base_uri": "https://localhost:8080/",
          "height": 502
        },
        "id": "Xpf1qGIJgDLX",
        "outputId": "a8ac3507-d814-4164-c0e8-b35084ce2ff0"
      },
      "execution_count": 14,
      "outputs": [
        {
          "output_type": "execute_result",
          "data": {
            "text/plain": [
              "<Axes: xlabel='Sex'>"
            ]
          },
          "metadata": {},
          "execution_count": 14
        },
        {
          "output_type": "display_data",
          "data": {
            "text/plain": [
              "<Figure size 640x480 with 1 Axes>"
            ],
            "image/png": "[encoded data removed]"
          },
          "metadata": {}
        }
      ]
    },
    {
      "cell_type": "markdown",
      "source": [
        "## b.  **Pie Chart - Percentage Distribution**\n",
        "\n",
        "**Why use pie charts?** Shows proportions and percentages instead of raw counts\n",
        "\n",
        "#### **Basic Pie Chart**\n",
        "```python\n",
        "df['Survived'].value_counts().plot(kind='pie')\n",
        "```\n",
        "- Shows survival distribution as slices\n",
        "- Visual representation of proportions\n",
        "\n",
        "#### **Pie Chart with Percentages**\n",
        "```python\n",
        "df['Survived'].value_counts().plot(kind='pie', autopct='%.3f')\n",
        "```\n",
        "- `autopct='%.3f'` displays percentage labels on slices\n",
        "- Format: 3 decimal places (e.g., 61.616%)\n",
        "\n",
        "**Key difference from countplot:**  \n",
        "- **CountPlot** → Raw counts (absolute numbers)\n",
        "- **Pie Chart** → Percentages (relative proportions)\n",
        "\n",
        "**Best for:** Understanding survival rate at a glance\n",
        "\n",
        "---"
      ],
      "metadata": {
        "id": "Tm0ChOr3gf1r"
      }
    },
    {
      "cell_type": "code",
      "source": [
        "df['Survived'].value_counts().plot(kind = 'pie')\n",
        "df['Survived'].value_counts().plot(kind = 'pie', autopct = '%.3f')\n"
      ],
      "metadata": {
        "colab": {
          "base_uri": "https://localhost:8080/",
          "height": 423
        },
        "id": "esCpfrXOgEYs",
        "outputId": "1e2cdc78-e572-41db-8622-d6a0c6a1e1f7"
      },
      "execution_count": 16,
      "outputs": [
        {
          "output_type": "execute_result",
          "data": {
            "text/plain": [
              "<Axes: ylabel='count'>"
            ]
          },
          "metadata": {},
          "execution_count": 16
        },
        {
          "output_type": "display_data",
          "data": {
            "text/plain": [
              "<Figure size 640x480 with 1 Axes>"
            ],
            "image/png": "[encoded data removed]"
          },
          "metadata": {}
        }
      ]
    },
    {
      "cell_type": "markdown",
      "source": [
        "## 2️⃣ **Numerical Data**\n",
        "\n",
        "> *Analyzing continuous and discrete numerical variables*\n",
        "\n",
        "**Numerical columns in Titanic:**\n",
        "- 🎂 **Age** - Passenger age in years\n",
        "- 💰 **Fare** - Ticket price\n",
        "- 👨‍👩‍👧 **SibSp** - Number of siblings/spouses\n",
        "- 👶 **Parch** - Number of parents/children\n",
        "\n",
        "**Key questions:**\n",
        "- What's the distribution shape?\n",
        "- Are there outliers?\n",
        "- What are the central tendencies (mean, median)?\n",
        "- How spread out is the data?\n",
        "\n",
        "---"
      ],
      "metadata": {
        "id": "KYVLgCy5gt5G"
      }
    },
    {
      "cell_type": "markdown",
      "source": [
        "### 🎨 **Matplotlib**\n",
        "\n",
        "**Purpose:** Foundation plotting library for Python (Seaborn is built on top of it)\n",
        "\n",
        "**Key features:**\n",
        "- 📈 Low-level control over plots\n",
        "- 🎯 Create any type of visualization\n",
        "- 🔧 Highly customizable (colors, labels, styles)\n",
        "- 📊 Industry standard for data visualization\n",
        "\n",
        "**Usage:** Fine-tune plots when you need complete control\n",
        "\n",
        "**Import:** `import matplotlib.pyplot as plt`\n",
        "\n",
        "---"
      ],
      "metadata": {
        "id": "OgaF929dhIng"
      }
    },
    {
      "cell_type": "code",
      "source": [
        "import matplotlib.pyplot as plt"
      ],
      "metadata": {
        "id": "bu0dqSSegSnY"
      },
      "execution_count": 17,
      "outputs": []
    },
    {
      "cell_type": "markdown",
      "source": [
        "### 📊 **a. Histogram**\n",
        "\n",
        "**Purpose:** Shows the distribution of numerical data by dividing it into bins (ranges)\n",
        "\n",
        "**What it tells us:**\n",
        "- How data is spread across different ranges\n",
        "- Where most values are concentrated\n",
        "- Shape of distribution (normal, skewed, bimodal)\n",
        "\n",
        "**Simple explanation:**  \n",
        "*\"Kitne log kam wali side hai, kitne log zyada wali side hai\"*\n",
        "- Shows frequency of values in different intervals\n",
        "- Example: How many passengers are aged 0-10, 10-20, 20-30, etc.\n",
        "\n",
        "**Best for:** Age, Fare, and other continuous variables\n",
        "\n",
        "#### **Creating a Histogram**\n",
        "```python\n",
        "plt.hist(df['Age'])\n",
        "```\n",
        "- Automatically divides Age into bins\n",
        "- Shows count of passengers in each age range\n",
        "\n",
        "#### **Custom Bins**\n",
        "```python\n",
        "plt.hist(df['Age'], bins=50)\n",
        "```\n",
        "\n",
        "**What are bins?**  \n",
        "Bins are intervals/buckets that group data ranges together\n",
        "\n",
        "- **Fewer bins** (e.g., 10) → Broader ranges, smoother overview\n",
        "- **More bins** (e.g., 50) → Narrower ranges, more detailed distribution\n",
        "\n",
        "**Example:** `bins=50` creates 50 equal intervals for Age, giving finer granularity\n",
        "\n",
        "---"
      ],
      "metadata": {
        "id": "3Z8BYcFKhOM9"
      }
    },
    {
      "cell_type": "code",
      "source": [
        "plt.hist(df['Age'])\n",
        "plt.hist(df['Age'], bins = 50)"
      ],
      "metadata": {
        "colab": {
          "base_uri": "https://localhost:8080/",
          "height": 656
        },
        "id": "Gxy40PEChIFA",
        "outputId": "d257b2fd-2554-4493-d300-c261f3f79db4"
      },
      "execution_count": 19,
      "outputs": [
        {
          "output_type": "execute_result",
          "data": {
            "text/plain": [
              "(array([24.,  6., 14.,  3.,  7.,  8.,  6.,  3.,  7., 22., 13., 51., 40.,\n",
              "        27., 46., 24., 36., 47., 27., 35., 17., 34., 29., 11., 27.,  8.,\n",
              "        18.,  9., 17., 18.,  6., 17.,  6.,  9.,  7.,  2.,  7.,  4.,  7.,\n",
              "         4.,  3.,  1.,  0.,  2.,  3.,  0.,  1.,  0.,  0.,  1.]),\n",
              " array([ 0.42  ,  2.0116,  3.6032,  5.1948,  6.7864,  8.378 ,  9.9696,\n",
              "        11.5612, 13.1528, 14.7444, 16.336 , 17.9276, 19.5192, 21.1108,\n",
              "        22.7024, 24.294 , 25.8856, 27.4772, 29.0688, 30.6604, 32.252 ,\n",
              "        33.8436, 35.4352, 37.0268, 38.6184, 40.21  , 41.8016, 43.3932,\n",
              "        44.9848, 46.5764, 48.168 , 49.7596, 51.3512, 52.9428, 54.5344,\n",
              "        56.126 , 57.7176, 59.3092, 60.9008, 62.4924, 64.084 , 65.6756,\n",
              "        67.2672, 68.8588, 70.4504, 72.042 , 73.6336, 75.2252, 76.8168,\n",
              "        78.4084, 80.    ]),\n",
              " <BarContainer object of 50 artists>)"
            ]
          },
          "metadata": {},
          "execution_count": 19
        },
        {
          "output_type": "display_data",
          "data": {
            "text/plain": [
              "<Figure size 640x480 with 1 Axes>"
            ],
            "image/png": "[encoded data removed]"
          },
          "metadata": {}
        }
      ]
    },
    {
      "cell_type": "markdown",
      "source": [
        "### 📈 **b. Distplot (Distribution Plot)**\n",
        "\n",
        "**Purpose:** Combines histogram + smooth curve (KDE) to show data distribution\n",
        "\n",
        "**What it shows:**\n",
        "- Histogram bars (frequency counts)\n",
        "- KDE line (Kernel Density Estimate) - smooth probability curve\n",
        "\n",
        "#### **Creating a Distplot**\n",
        "```python\n",
        "sns.distplot(df['Age'])\n",
        "```\n",
        "\n",
        "**Components:**\n",
        "- **Histogram** → Actual count distribution\n",
        "- **KDE curve** → Smooth probability density function (PDF)\n",
        "\n",
        "**Axes explanation:**\n",
        "- **X-axis** → Age values\n",
        "- **Y-axis** → Probability density (not exact count!)\n",
        "\n",
        "---\n",
        "\n",
        "**Key difference from Histogram:**\n",
        "\n",
        "**Histogram:**\n",
        "- Shows exact number of people in each bin\n",
        "- Y-axis = Count/Frequency\n",
        "- Example: \"50 people are aged 20-25\"\n",
        "\n",
        "**Distplot/KDE:**\n",
        "- Shows probability distribution as smooth curve\n",
        "- Y-axis = Probability density\n",
        "- Example: \"What's the probability of finding a 60-year-old passenger?\"\n",
        "- The curve height indicates likelihood (higher = more probable)\n",
        "\n",
        "**Use case:** Better for understanding overall distribution shape and trends\n",
        "\n",
        "---"
      ],
      "metadata": {
        "id": "6JBKE9z1iXyh"
      }
    },
    {
      "cell_type": "code",
      "source": [
        "sns.distplot(df['Age'])"
      ],
      "metadata": {
        "colab": {
          "base_uri": "https://localhost:8080/",
          "height": 657
        },
        "id": "BHXL1Ke8hUeD",
        "outputId": "ccfae9ed-b705-47a1-d622-2cc858e82ef5"
      },
      "execution_count": 21,
      "outputs": [
        {
          "output_type": "stream",
          "name": "stderr",
          "text": [
            "/tmp/ipython-input-3255828239.py:1: UserWarning: \n",
            "\n",
            "`distplot` is a deprecated function and will be removed in seaborn v0.14.0.\n",
            "\n",
            "Please adapt your code to use either `displot` (a figure-level function with\n",
            "similar flexibility) or `histplot` (an axes-level function for histograms).\n",
            "\n",
            "For a guide to updating your code to use the new functions, please see\n",
            "https://gist.github.com/mwaskom/de44147ed2974457ad6372750bbe5751\n",
            "\n",
            "  sns.distplot(df['Age'])\n"
          ]
        },
        {
          "output_type": "execute_result",
          "data": {
            "text/plain": [
              "<Axes: xlabel='Age', ylabel='Density'>"
            ]
          },
          "metadata": {},
          "execution_count": 21
        },
        {
          "output_type": "display_data",
          "data": {
            "text/plain": [
              "<Figure size 640x480 with 1 Axes>"
            ],
            "image/png": "[encoded data removed]"
          },
          "metadata": {}
        }
      ]
    },
    {
      "cell_type": "code",
      "source": [
        "from IPython.display import Image\n",
        "\n",
        "Image(filename='boxplot.png')\n"
      ],
      "metadata": {
        "colab": {
          "base_uri": "https://localhost:8080/",
          "height": 250
        },
        "id": "S623Or21lNhB",
        "outputId": "31a889b7-6d0b-4e2c-d90c-92f99e9ccea9"
      },
      "execution_count": 25,
      "outputs": [
        {
          "output_type": "execute_result",
          "data": {
            "image/png": "[encoded data removed]",
            "text/plain": [
              "<IPython.core.display.Image object>"
            ]
          },
          "metadata": {},
          "execution_count": 25
        }
      ]
    },
    {
      "cell_type": "markdown",
      "source": [
        "### 📦 **c. Box Plot**\n",
        "\n",
        "**Purpose:** Shows the 5-number summary and identifies outliers in numerical data\n",
        "\n",
        "#### **Creating a Box Plot**\n",
        "```python\n",
        "sns.boxplot(df['Fare'])\n",
        "```\n",
        "\n",
        "---\n",
        "\n",
        "<div style=\"background: linear-gradient(135deg, #667eea 0%, #764ba2 100%); padding: 3px; border-radius: 12px; margin: 20px 0;\">\n",
        "    <div style=\"background: #1a1a2e; padding: 30px; border-radius: 10px;\">\n",
        "        <h4 style=\"color: #a8edea; margin-top: 0; text-align: center; font-size: 1.5em;\">📊 Box Plot Anatomy</h4>\n",
        "        \n",
        "<pre style=\"color: #e0e0e0; background: #16213e; padding: 20px; border-radius: 8px; font-family: monospace; line-height: 2;\">\n",
        "    \n",
        "    <span style=\"color: #f5576c;\">●</span> ← Outliers (extreme values)\n",
        "    │\n",
        "    <span style=\"color: #f5576c;\">●</span>\n",
        "    │\n",
        "    ├─────────────┐  ← <span style=\"color: #fee140;\">Maximum</span> = Q3 + 1.5 × IQR\n",
        "    │             │\n",
        "    │             │     (Whisker - upper fence)\n",
        "    │             │\n",
        "    ├─────────────┤  ← <span style=\"color: #4ade80;\">Q3 (75th percentile)</span>\n",
        "    │             │     75% of data below this\n",
        "    │             │\n",
        "    │      ━━━━━  │  ← <span style=\"color: #ffd93d;\">Median (Q2, 50th percentile)</span>\n",
        "    │             │     Middle value\n",
        "    │             │\n",
        "    ├─────────────┤  ← <span style=\"color: #a8edea;\">Q1 (25th percentile)</span>\n",
        "    │             │     25% of data below this\n",
        "    │             │\n",
        "    │             │     ↕ <span style=\"color: #f093fb;\">IQR</span> (Interquartile Range)\n",
        "    │             │       IQR = Q3 - Q1\n",
        "    └─────────────┘  ← <span style=\"color: #fee140;\">Minimum</span> = Q1 - 1.5 × IQR\n",
        "    │\n",
        "    <span style=\"color: #f5576c;\">●</span> ← Outliers (extreme values)\n",
        "    │\n",
        "    <span style=\"color: #f5576c;\">●</span>\n",
        "\n",
        "</pre>\n",
        "    \n",
        "</div>\n",
        "\n",
        "---\n",
        "\n",
        "### 🔢 **Understanding the Components**\n",
        "\n",
        "**📊 5-Number Summary:**\n",
        "\n",
        "1. **Minimum** → Lowest value (excluding outliers)  \n",
        "   Formula: `Q1 - 1.5 × IQR`\n",
        "\n",
        "2. **Q1 (25th percentile)** → 25% of data falls below this  \n",
        "   Example: If Q1 = 20, then 25% passengers paid ≤ $20\n",
        "\n",
        "3. **Median (50th percentile)** → Middle value, splits data in half  \n",
        "   Example: If Median = 50, then 50% paid less, 50% paid more\n",
        "\n",
        "4. **Q3 (75th percentile)** → 75% of data falls below this  \n",
        "   Example: If Q3 = 80, then 75% passengers paid ≤ $80\n",
        "\n",
        "5. **Maximum** → Highest value (excluding outliers)  \n",
        "   Formula: `Q3 + 1.5 × IQR`\n",
        "\n",
        "---\n",
        "\n",
        "### 📏 **Key Concepts**\n",
        "\n",
        "**IQR (Interquartile Range):**\n",
        "- `IQR = Q3 - Q1`\n",
        "- Contains the middle 50% of data\n",
        "- Measures data spread\n",
        "\n",
        "**Outliers (🔴 Red dots):**\n",
        "- Values beyond whiskers\n",
        "- Unusually high or low values\n",
        "- Formula: Below `Q1 - 1.5×IQR` or above `Q3 + 1.5×IQR`\n",
        "\n",
        "---\n",
        "\n",
        "### 💡 **What Box Plot Tells Us**\n",
        "\n",
        "✅ **Data spread** → Width of box shows variability  \n",
        "✅ **Skewness** → Where median sits in the box  \n",
        "✅ **Outliers** → Dots beyond whiskers  \n",
        "✅ **Data quality** → *\"Kitna data noisy hai, kitne outliers hai\"*\n",
        "\n",
        "**Best for:** Comparing distributions, detecting outliers, understanding data spread\n",
        "\n",
        "---"
      ],
      "metadata": {
        "id": "1prXp7TFjeKB"
      }
    },
    {
      "cell_type": "code",
      "source": [
        "sns.boxplot(df['Fare'])"
      ],
      "metadata": {
        "colab": {
          "base_uri": "https://localhost:8080/",
          "height": 428
        },
        "id": "_THiiD9oh75B",
        "outputId": "280466ec-b442-4990-e356-3a16ac2202d9"
      },
      "execution_count": 22,
      "outputs": [
        {
          "output_type": "execute_result",
          "data": {
            "text/plain": [
              "<Axes: ylabel='Fare'>"
            ]
          },
          "metadata": {},
          "execution_count": 22
        },
        {
          "output_type": "display_data",
          "data": {
            "text/plain": [
              "<Figure size 640x480 with 1 Axes>"
            ],
            "image/png": "[encoded data removed]"
          },
          "metadata": {}
        }
      ]
    },
    {
      "cell_type": "markdown",
      "source": [
        "### 🔢 **Calculating Summary Statistics**\n",
        "\n",
        "#### **Finding Key Values**\n",
        "```python\n",
        "df['Age'].min()\n",
        "```\n",
        "- Returns the **minimum age** in the dataset\n",
        "- Youngest passenger\n",
        "```python\n",
        "df['Age'].max()\n",
        "```\n",
        "- Returns the **maximum age** in the dataset\n",
        "- Oldest passenger\n",
        "```python\n",
        "df['Age'].median()\n",
        "```\n",
        "- Returns the **median (50th percentile)**\n",
        "- Middle value when ages are sorted\n",
        "- 50% passengers younger, 50% older\n",
        "\n",
        "**Use case:** Verify box plot values or get exact numbers for analysis\n",
        "\n",
        "---"
      ],
      "metadata": {
        "id": "3e8UHpxEj2G7"
      }
    },
    {
      "cell_type": "code",
      "source": [
        "df['Age'].min()\n",
        "df['Age'].max()\n",
        "df['Age'].median()"
      ],
      "metadata": {
        "colab": {
          "base_uri": "https://localhost:8080/"
        },
        "id": "SeEjUkInjGDp",
        "outputId": "e13de70f-7274-4c9c-d55d-7c78cfba6754"
      },
      "execution_count": 23,
      "outputs": [
        {
          "output_type": "execute_result",
          "data": {
            "text/plain": [
              "28.0"
            ]
          },
          "metadata": {},
          "execution_count": 23
        }
      ]
    },
    {
      "cell_type": "markdown",
      "source": [
        "### 📊 **Skewness**\n",
        "```python\n",
        "df['Age'].skew()\n",
        "```\n",
        "\n",
        "**Purpose:** Measures the asymmetry of the data distribution\n",
        "\n",
        "**Interpretation:**\n",
        "- **Skew = 0** → Perfectly symmetrical (normal distribution)\n",
        "- **Skew > 0** → Right-skewed (positive skew)  \n",
        "  *Tail extends to the right, most data on left side*\n",
        "- **Skew < 0** → Left-skewed (negative skew)  \n",
        "  *Tail extends to the left, most data on right side*\n",
        "\n",
        "**Rule of thumb:**\n",
        "- `-0.5 to 0.5` → Fairly symmetrical\n",
        "- `0.5 to 1` or `-1 to -0.5` → Moderately skewed\n",
        "- `> 1` or `< -1` → Highly skewed\n",
        "\n",
        "**Why it matters:** Helps understand data distribution shape and choose appropriate statistical methods\n",
        "\n",
        "---"
      ],
      "metadata": {
        "id": "wQOtfQAdlH53"
      }
    },
    {
      "cell_type": "code",
      "source": [
        "df['Age'].skew()"
      ],
      "metadata": {
        "colab": {
          "base_uri": "https://localhost:8080/"
        },
        "id": "1YdS4ZwyjbLx",
        "outputId": "8af22949-1701-4056-cba1-a862bd7a12e9"
      },
      "execution_count": 24,
      "outputs": [
        {
          "output_type": "execute_result",
          "data": {
            "text/plain": [
              "np.float64(0.38910778230082704)"
            ]
          },
          "metadata": {},
          "execution_count": 24
        }
      ]
    }
  ]
}